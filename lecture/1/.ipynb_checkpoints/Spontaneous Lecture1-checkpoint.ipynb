{
 "metadata": {
  "name": "",
  "signature": "sha256:5346766591c9581ceb04a6d1ba24a718a0dac4f72eb9dd6c2635ac323f1cd52c"
 },
 "nbformat": 3,
 "nbformat_minor": 0,
 "worksheets": []
}